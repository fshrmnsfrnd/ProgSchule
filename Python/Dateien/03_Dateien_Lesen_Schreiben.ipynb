{
 "cells": [
  {
   "attachments": {},
   "cell_type": "markdown",
   "metadata": {},
   "source": [
    "### Textdateien lesen und schreiben\n",
    "Mit der Funktion \n",
    "    `open(<dateipfad>,<modus>)   `\n",
    "können Dateien zum Lesen und Schreiben geöffnet werden. Sie liefert ein stream-Objekt zurück aus dem man lesen bzw. in den man schreiben kann.  Der Modus gibt an, was genau mit der Datei gemacht werden soll. Die meist genutzten Modi für Textdateien sind:  \n",
    "\n",
    "`r  `   lesen  \n",
    "`w  `   schreiben (die Datei wird neu erstellt bzw. eine vorhandene Datei wird überschieben)  \n",
    "`a  `  schreiben/anhängen (die Datei wird neu erstellt bzw. eine vorhandene Datei wird am Ende ergänzt)    \n",
    "\n",
    "  \n",
    "Am Ende der Nutzung muss die Datei mit der Funktion `close(<stream-Objekt>)` wieder geschlossen werden.\n",
    "  \n",
    "  #### Beispiele:\n"
   ]
  },
  {
   "attachments": {},
   "cell_type": "markdown",
   "metadata": {},
   "source": [
    "### Dateipfad zusammenstellen\n",
    "Die Datei soll im gleichen Verzeichnis wie das Programm liegen. Wenn Sie einen speziellen Pfad verwenden möchten, verwenden Sie am besten einen passenden Dialog für die Auswahl (siehe Tkinter).\n",
    "\n",
    "`Wichtig!` In Jupyter Notebook müssen Sie beim Einlesen der Datei nicht gesamten Pfad angeben. Es reicht, wenn Sie den Pfad relativ zum Speicherort des Notebooks angeben. Die Systemvariable `__file__` ist nur gesetzt, wenn Sie ein Python-Programm ausführen. Sie enthält dann den Pfad zur Programmdatei.\n",
    "\n"
   ]
  },
  {
   "cell_type": "code",
   "execution_count": 1,
   "metadata": {},
   "outputs": [
    {
     "name": "stdout",
     "output_type": "stream",
     "text": [
      "textdatei.txt\n"
     ]
    }
   ],
   "source": [
    "import os\n",
    "\n",
    "# Wenn der Code in einem normalen Python-Programm ausgeführt wird.\n",
    "if (\"__file__\" in vars()):\n",
    "    #Aktuellen Pfad herausfinden (\"__file__\") zeigt auf die Programmdatei incl. Pfad\n",
    "    path, filename = os.path.split(os.path.abspath(__file__))\n",
    "    #  Jetzt einen neuen Dateinamen damit verbinden\n",
    "    dateiname = os.path.join(path,\"textdatei1.txt\")\n",
    "    print(dateiname)\n",
    "# Beim Jupyter-Notebook ist der Dateiname ausreichend\n",
    "else:\n",
    "    dateiname = (\"textdatei.txt\")\n",
    "    print (dateiname)"
   ]
  },
  {
   "attachments": {},
   "cell_type": "markdown",
   "metadata": {},
   "source": [
    "#### Beispiel:\n",
    "Datei mit Zahlen von 0 bis 9 und  den dazugehörigen Quadratzahlen zeilenweise speichern. Die beiden Zahlen werden durch einen Strichpunkt getrennt."
   ]
  },
  {
   "cell_type": "code",
   "execution_count": 2,
   "metadata": {},
   "outputs": [],
   "source": [
    "try:\n",
    "    datei = open(dateiname,\"w\")\n",
    "    for i in range(10):\n",
    "        j = i**2\n",
    "        datei.write(f\"{i};{j}\\n\")\n",
    "    datei.close()\n",
    "except Exception as e: \n",
    "    print (f\"Fehler beim Schreiben der Datei {dateiname}\")\n",
    "    #Fehlermeldung vom Interpreter ausgeben\n",
    "    print(e)\n",
    "    if datei:\n",
    "        datei.close()\n",
    "\n"
   ]
  },
  {
   "cell_type": "code",
   "execution_count": 3,
   "metadata": {},
   "outputs": [
    {
     "name": "stdout",
     "output_type": "stream",
     "text": [
      "Help on TextIOWrapper in module _io object:\n",
      "\n",
      "class TextIOWrapper(_TextIOBase)\n",
      " |  TextIOWrapper(\n",
      " |      buffer,\n",
      " |      encoding=None,\n",
      " |      errors=None,\n",
      " |      newline=None,\n",
      " |      line_buffering=False,\n",
      " |      write_through=False\n",
      " |  )\n",
      " |\n",
      " |  Character and line based layer over a BufferedIOBase object, buffer.\n",
      " |\n",
      " |  encoding gives the name of the encoding that the stream will be\n",
      " |  decoded or encoded with. It defaults to locale.getencoding().\n",
      " |\n",
      " |  errors determines the strictness of encoding and decoding (see\n",
      " |  help(codecs.Codec) or the documentation for codecs.register) and\n",
      " |  defaults to \"strict\".\n",
      " |\n",
      " |  newline controls how line endings are handled. It can be None, '',\n",
      " |  '\\n', '\\r', and '\\r\\n'.  It works as follows:\n",
      " |\n",
      " |  * On input, if newline is None, universal newlines mode is\n",
      " |    enabled. Lines in the input can end in '\\n', '\\r', or '\\r\\n', and\n",
      " |    these are translated into '\\n' before being returned to the\n",
      " |    caller. If it is '', universal newline mode is enabled, but line\n",
      " |    endings are returned to the caller untranslated. If it has any of\n",
      " |    the other legal values, input lines are only terminated by the given\n",
      " |    string, and the line ending is returned to the caller untranslated.\n",
      " |\n",
      " |  * On output, if newline is None, any '\\n' characters written are\n",
      " |    translated to the system default line separator, os.linesep. If\n",
      " |    newline is '' or '\\n', no translation takes place. If newline is any\n",
      " |    of the other legal values, any '\\n' characters written are translated\n",
      " |    to the given string.\n",
      " |\n",
      " |  If line_buffering is True, a call to flush is implied when a call to\n",
      " |  write contains a newline character.\n",
      " |\n",
      " |  Method resolution order:\n",
      " |      TextIOWrapper\n",
      " |      _TextIOBase\n",
      " |      _IOBase\n",
      " |      builtins.object\n",
      " |\n",
      " |  Methods defined here:\n",
      " |\n",
      " |  __getstate__(self, /)\n",
      " |      Helper for pickle.\n",
      " |\n",
      " |  __init__(self, /, *args, **kwargs)\n",
      " |      Initialize self.  See help(type(self)) for accurate signature.\n",
      " |\n",
      " |  __next__(self, /)\n",
      " |      Implement next(self).\n",
      " |\n",
      " |  __repr__(self, /)\n",
      " |      Return repr(self).\n",
      " |\n",
      " |  close(self, /)\n",
      " |      Flush and close the IO object.\n",
      " |\n",
      " |      This method has no effect if the file is already closed.\n",
      " |\n",
      " |  detach(self, /)\n",
      " |      Separate the underlying buffer from the TextIOBase and return it.\n",
      " |\n",
      " |      After the underlying buffer has been detached, the TextIO is in an unusable state.\n",
      " |\n",
      " |  fileno(self, /)\n",
      " |      Return underlying file descriptor if one exists.\n",
      " |\n",
      " |      Raise OSError if the IO object does not use a file descriptor.\n",
      " |\n",
      " |  flush(self, /)\n",
      " |      Flush write buffers, if applicable.\n",
      " |\n",
      " |      This is not implemented for read-only and non-blocking streams.\n",
      " |\n",
      " |  isatty(self, /)\n",
      " |      Return whether this is an 'interactive' stream.\n",
      " |\n",
      " |      Return False if it can't be determined.\n",
      " |\n",
      " |  read(self, size=-1, /)\n",
      " |      Read at most size characters from stream.\n",
      " |\n",
      " |      Read from underlying buffer until we have size characters or we hit EOF.\n",
      " |      If size is negative or omitted, read until EOF.\n",
      " |\n",
      " |  readable(self, /)\n",
      " |      Return whether object was opened for reading.\n",
      " |\n",
      " |      If False, read() will raise OSError.\n",
      " |\n",
      " |  readline(self, size=-1, /)\n",
      " |      Read until newline or EOF.\n",
      " |\n",
      " |      Return an empty string if EOF is hit immediately.\n",
      " |      If size is specified, at most size characters will be read.\n",
      " |\n",
      " |  reconfigure(\n",
      " |      self,\n",
      " |      /,\n",
      " |      *,\n",
      " |      encoding=None,\n",
      " |      errors=None,\n",
      " |      newline=None,\n",
      " |      line_buffering=None,\n",
      " |      write_through=None\n",
      " |  )\n",
      " |      Reconfigure the text stream with new parameters.\n",
      " |\n",
      " |      This also does an implicit stream flush.\n",
      " |\n",
      " |  seek(self, cookie, whence=0, /)\n",
      " |      Set the stream position, and return the new stream position.\n",
      " |\n",
      " |        cookie\n",
      " |          Zero or an opaque number returned by tell().\n",
      " |        whence\n",
      " |          The relative position to seek from.\n",
      " |\n",
      " |      Four operations are supported, given by the following argument\n",
      " |      combinations:\n",
      " |\n",
      " |      - seek(0, SEEK_SET): Rewind to the start of the stream.\n",
      " |      - seek(cookie, SEEK_SET): Restore a previous position;\n",
      " |        'cookie' must be a number returned by tell().\n",
      " |      - seek(0, SEEK_END): Fast-forward to the end of the stream.\n",
      " |      - seek(0, SEEK_CUR): Leave the current stream position unchanged.\n",
      " |\n",
      " |      Any other argument combinations are invalid,\n",
      " |      and may raise exceptions.\n",
      " |\n",
      " |  seekable(self, /)\n",
      " |      Return whether object supports random access.\n",
      " |\n",
      " |      If False, seek(), tell() and truncate() will raise OSError.\n",
      " |      This method may need to do a test seek().\n",
      " |\n",
      " |  tell(self, /)\n",
      " |      Return the stream position as an opaque number.\n",
      " |\n",
      " |      The return value of tell() can be given as input to seek(), to restore a\n",
      " |      previous stream position.\n",
      " |\n",
      " |  truncate(self, pos=None, /)\n",
      " |      Truncate file to size bytes.\n",
      " |\n",
      " |      File pointer is left unchanged. Size defaults to the current IO position\n",
      " |      as reported by tell(). Return the new size.\n",
      " |\n",
      " |  writable(self, /)\n",
      " |      Return whether object was opened for writing.\n",
      " |\n",
      " |      If False, write() will raise OSError.\n",
      " |\n",
      " |  write(self, text, /)\n",
      " |      Write string s to stream.\n",
      " |\n",
      " |      Return the number of characters written\n",
      " |      (which is always equal to the length of the string).\n",
      " |\n",
      " |  ----------------------------------------------------------------------\n",
      " |  Data descriptors defined here:\n",
      " |\n",
      " |  buffer\n",
      " |\n",
      " |  closed\n",
      " |\n",
      " |  encoding\n",
      " |      Encoding of the text stream.\n",
      " |\n",
      " |      Subclasses should override.\n",
      " |\n",
      " |  errors\n",
      " |      The error setting of the decoder or encoder.\n",
      " |\n",
      " |      Subclasses should override.\n",
      " |\n",
      " |  line_buffering\n",
      " |\n",
      " |  name\n",
      " |\n",
      " |  newlines\n",
      " |      Line endings translated so far.\n",
      " |\n",
      " |      Only line endings translated during reading are considered.\n",
      " |\n",
      " |      Subclasses should override.\n",
      " |\n",
      " |  write_through\n",
      " |\n",
      " |  ----------------------------------------------------------------------\n",
      " |  Methods inherited from _IOBase:\n",
      " |\n",
      " |  __del__(self, /)\n",
      " |      Called when the instance is about to be destroyed.\n",
      " |\n",
      " |  __enter__(self, /)\n",
      " |\n",
      " |  __exit__(...)\n",
      " |\n",
      " |  __iter__(self, /)\n",
      " |      Implement iter(self).\n",
      " |\n",
      " |  readlines(self, hint=-1, /)\n",
      " |      Return a list of lines from the stream.\n",
      " |\n",
      " |      hint can be specified to control the number of lines read: no more\n",
      " |      lines will be read if the total size (in bytes/characters) of all\n",
      " |      lines so far exceeds hint.\n",
      " |\n",
      " |  writelines(self, lines, /)\n",
      " |      Write a list of lines to stream.\n",
      " |\n",
      " |      Line separators are not added, so it is usual for each of the\n",
      " |      lines provided to have a line separator at the end.\n",
      " |\n",
      " |  ----------------------------------------------------------------------\n",
      " |  Data descriptors inherited from _IOBase:\n",
      " |\n",
      " |  __dict__\n",
      "\n"
     ]
    }
   ],
   "source": [
    "# Beschreibung zum Dateiobjekt anzeigen\n",
    "help(datei)"
   ]
  },
  {
   "cell_type": "code",
   "execution_count": null,
   "metadata": {},
   "outputs": [
    {
     "name": "stdout",
     "output_type": "stream",
     "text": [
      "Fehler beim Schreiben der Datei textdatei.txt\n",
      "division by zero\n",
      "Datei schließen\n"
     ]
    }
   ],
   "source": [
    "# was passiert eigentlich bei einem Fehler?\n",
    "try:\n",
    "    datei = open(dateiname,\"w\")\n",
    "    for i in range(10):\n",
    "        j = i**2\n",
    "        # Fehler _: Division durch Null\n",
    "        datei.write(f\"{i/0};{j}\\n\")\n",
    "    datei.close()\n",
    "except Exception as e: \n",
    "    print (f\"Fehler beim Schreiben der Datei {dateiname}\")\n",
    "    #Fehlermeldung vom Interpreter ausgeben\n",
    "    print(e)\n",
    "    # Jetzt ist die Datei noch offen und muss geschlossen werden\n",
    "    if datei:\n",
    "        print(\"Datei schließen\")\n",
    "        datei.close()\n",
    "\n"
   ]
  },
  {
   "cell_type": "markdown",
   "metadata": {},
   "source": [
    "#### Die Datei wieder einlesen"
   ]
  },
  {
   "cell_type": "code",
   "execution_count": 5,
   "metadata": {},
   "outputs": [],
   "source": [
    "try:\n",
    "    datei = open(dateiname,\"r\") \n",
    "    for zeile in datei:\n",
    "        # jetzt die Zeile in Spalten teilen. Das kennen Sie ja schon\n",
    "        spalten = zeile.strip().split(\";\")\n",
    "        print(f\"{spalten[0]:4}|{spalten[1]:8}\")\n",
    "    datei.close()\n",
    "except Exception as e: \n",
    "    print (f\"Fehler beim Lesen der Datei {dateiname}\")\n",
    "    print(e)\n",
    "    if datei:\n",
    "        datei.close()"
   ]
  },
  {
   "attachments": {},
   "cell_type": "markdown",
   "metadata": {},
   "source": [
    "### Dateien lesen und schreiben mit `with`\n",
    "\n",
    "Meist ist es einfach die Lese- und Schreiboperationen in einem Block zusammenzufassen. Dann kann man mit Hilfe des with-Befehls dafür sorgen, dass die Datei nur für den Anweisungsblock geöffnet bleibt und automatisch geschlossen wird.\n"
   ]
  },
  {
   "cell_type": "code",
   "execution_count": 6,
   "metadata": {},
   "outputs": [],
   "source": [
    "try:\n",
    "    with  open(dateiname,\"w\") as datei:\n",
    "        for i in range(10):\n",
    "            j = i**2\n",
    "            datei.write(f\"{i};{j}\\n\")\n",
    "except Exception as e: \n",
    "    print (f\"Fehler beim Schreiben der Datei {dateiname}\")\n",
    "    print(e)"
   ]
  },
  {
   "cell_type": "code",
   "execution_count": 7,
   "metadata": {},
   "outputs": [
    {
     "name": "stdout",
     "output_type": "stream",
     "text": [
      "0   |0       \n",
      "1   |1       \n",
      "2   |4       \n",
      "3   |9       \n",
      "4   |16      \n",
      "5   |25      \n",
      "6   |36      \n",
      "7   |49      \n",
      "8   |64      \n",
      "9   |81      \n"
     ]
    }
   ],
   "source": [
    "\n",
    "try:\n",
    "    with  open(dateiname,\"r\") as datei:\n",
    "    \n",
    "        for zeile in datei:\n",
    "            spalten = zeile.strip().split(\";\")\n",
    "            print(f\"{spalten[0]:4}|{spalten[1]:8}\")\n",
    "except Exception as e: \n",
    "    print (f\"Fehler beim Lesen der Datei {dateiname}\")    \n",
    "    print(e)   "
   ]
  },
  {
   "cell_type": "markdown",
   "metadata": {},
   "source": [
    "### Eine ganze Textdatei auf einmal lesen"
   ]
  },
  {
   "cell_type": "code",
   "execution_count": 8,
   "metadata": {},
   "outputs": [
    {
     "name": "stdout",
     "output_type": "stream",
     "text": [
      "text = \n",
      "0;0\n",
      "1;1\n",
      "2;4\n",
      "3;9\n",
      "4;16\n",
      "5;25\n",
      "6;36\n",
      "7;49\n",
      "8;64\n",
      "9;81\n",
      "\n"
     ]
    }
   ],
   "source": [
    "\n",
    "try:\n",
    "    with  open(dateiname,\"r\") as datei:\n",
    "        text = datei.read()\n",
    "        print(\"text = \\n\"+text)\n",
    "except: \n",
    "    print (f\"Fehler beim Lesen der Datei {dateiname}\")       "
   ]
  },
  {
   "cell_type": "code",
   "execution_count": 9,
   "metadata": {},
   "outputs": [
    {
     "name": "stdout",
     "output_type": "stream",
     "text": [
      "['0;0\\n', '1;1\\n', '2;4\\n', '3;9\\n', '4;16\\n', '5;25\\n', '6;36\\n', '7;49\\n', '8;64\\n', '9;81\\n']\n"
     ]
    }
   ],
   "source": [
    "# oder eine Liste aus allen Zeilen lesen\n",
    "\n",
    "try:\n",
    "    with  open(dateiname,\"r\") as datei:\n",
    "        zeilen  = datei.readlines()\n",
    "        print(zeilen)\n",
    "except: \n",
    "    print (f\"Fehler beim Lesen der Datei {dateiname}\")       "
   ]
  }
 ],
 "metadata": {
  "kernelspec": {
   "display_name": "Python 3",
   "language": "python",
   "name": "python3"
  },
  "language_info": {
   "codemirror_mode": {
    "name": "ipython",
    "version": 3
   },
   "file_extension": ".py",
   "mimetype": "text/x-python",
   "name": "python",
   "nbconvert_exporter": "python",
   "pygments_lexer": "ipython3",
   "version": "3.13.5"
  },
  "orig_nbformat": 4,
  "vscode": {
   "interpreter": {
    "hash": "7587d2252e11da24705b9972c956e1e4ea40af46a37b68178db119e5e54996ba"
   }
  }
 },
 "nbformat": 4,
 "nbformat_minor": 2
}
